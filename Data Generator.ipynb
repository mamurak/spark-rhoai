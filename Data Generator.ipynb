{
 "cells": [
  {
   "cell_type": "code",
   "execution_count": null,
   "id": "8412af2d-a28f-472f-82dc-7ae7ceb55987",
   "metadata": {
    "tags": []
   },
   "outputs": [],
   "source": [
    "!pip install fsspec s3fs"
   ]
  },
  {
   "cell_type": "code",
   "execution_count": null,
   "id": "756aa263-ed56-47c9-9e57-b0361239d72f",
   "metadata": {},
   "outputs": [],
   "source": [
    "from datetime import datetime\n",
    "from multiprocessing import cpu_count, Pool\n",
    "from os import getenv\n",
    "from random import choice, randint, uniform\n",
    "from warnings import filterwarnings\n",
    "filterwarnings('ignore')\n",
    "\n",
    "from pandas import DataFrame\n",
    "from pyspark import SparkContext\n",
    "from pyspark.sql import SparkSession"
   ]
  },
  {
   "cell_type": "code",
   "execution_count": null,
   "id": "62c3c7d2-6238-4208-98aa-4158a8a4c711",
   "metadata": {
    "tags": []
   },
   "outputs": [],
   "source": [
    "SparkSession.stop\n",
    "\n",
    "spark = (\n",
    "    SparkSession\n",
    "    .builder\n",
    "    .appName('Generating and Writing Data')\n",
    "    .getOrCreate()\n",
    ")"
   ]
  },
  {
   "cell_type": "code",
   "execution_count": null,
   "id": "351c7145-dc04-402d-9bf3-21deb183c5d0",
   "metadata": {},
   "outputs": [],
   "source": [
    "def quiet_logs(sc):\n",
    "    logger = sc._jvm.org.apache.log4j\n",
    "    logger.LogManager.getLogger('org').setLevel(logger.Level.ERROR)\n",
    "    logger.LogManager.getLogger('akka').setLevel(logger.Level.ERROR)"
   ]
  },
  {
   "cell_type": "code",
   "execution_count": null,
   "id": "3b8b4b3f-8465-425f-a794-ad2a5b148801",
   "metadata": {},
   "outputs": [],
   "source": [
    "sc = SparkContext.getOrCreate();\n",
    "quiet_logs(sc)"
   ]
  },
  {
   "cell_type": "code",
   "execution_count": null,
   "id": "e20a4002-12da-4ef9-8b75-5ce1475de2ba",
   "metadata": {},
   "outputs": [],
   "source": [
    "s3_endpoint_url = getenv('AWS_S3_ENDPOINT')\n",
    "s3_access_key_id = getenv('AWS_ACCESS_KEY')\n",
    "s3_secret_access_key = getenv('AWS_SECRET_ACCESS_KEY')\n",
    "s3_bucket_name = getenv('AWS_S3_BUCKET')"
   ]
  },
  {
   "cell_type": "code",
   "execution_count": null,
   "id": "ad2669da-dcfd-46d2-8663-83ab2851f310",
   "metadata": {},
   "outputs": [],
   "source": [
    "def generate_data(i):\n",
    "    sales_id = f's_{i}'\n",
    "    product_name = f'Product_{i}'\n",
    "    price = uniform(1, 100)\n",
    "    quantity_sold = randint(1, 100)\n",
    "    date_of_sale = f'2022-{randint(1, 12)}-{randint(1, 28)}'\n",
    "    customer_id = f'c_{randint(1, 1000000)}'\n",
    "    return (sales_id, product_name, price, quantity_sold, date_of_sale, customer_id)\n",
    "\n",
    "\n",
    "with Pool(cpu_count()) as p:\n",
    "    sales_data = p.map(generate_data, range(5))\n",
    "    sales_data = list(sales_data)\n",
    "\n",
    "print('write to S3 started')\n",
    "sales_df = DataFrame(sales_data, columns=['sales_id', 'product_name', 'price', 'quantity_sold', 'date_of_sale', 'customer_id'])\n",
    "print('write to S3 completed')"
   ]
  },
  {
   "cell_type": "code",
   "execution_count": null,
   "id": "0863db39-7816-44d3-a01f-318a1e22a92b",
   "metadata": {},
   "outputs": [],
   "source": [
    "sales_df"
   ]
  },
  {
   "cell_type": "code",
   "execution_count": null,
   "id": "bf10a3bc-48ee-4655-88d0-269a8d81cb2a",
   "metadata": {},
   "outputs": [],
   "source": [
    "def _generate_data(generator_func, column_names, n_samples):\n",
    "    with Pool(cpu_count()) as p:\n",
    "        data = list(p.map(generator_func, range(n_samples)))\n",
    "\n",
    "    return DataFrame(data, columns=column_names)\n",
    "\n",
    "\n",
    "def _save(data, file_name, file_format):\n",
    "    if file_format == 'json':\n",
    "        data.to_json(file_name, orient='records')\n",
    "    elif file_format == 'csv':\n",
    "        data.to_csv(file_name, index=False, header=True)\n",
    "    else:\n",
    "        print(f'Error: file format {file_format} not supported!')\n",
    "        return\n",
    "    print('Write completed')\n",
    "\n",
    "\n",
    "def generate_and_save(\n",
    "        generator_func, column_names, file_name, file_format='json', n_samples=5):\n",
    "    data = _generate_data(generator_func, column_names, n_samples)\n",
    "    _save(data, file_name, file_format)    "
   ]
  },
  {
   "cell_type": "code",
   "execution_count": null,
   "id": "a7bae928-ad04-4f59-89c5-896542d53607",
   "metadata": {},
   "outputs": [],
   "source": [
    "def generate_stock_data(i):\n",
    "    product_name = f'Product_{i}'\n",
    "    shelf_life = randint(1, 365)\n",
    "    contains_promotion = f'{randint(0,10)} % off'\n",
    "    quantity_in_stock = randint(1, 1000)\n",
    "    location = f'Location_{randint(1,100)}'\n",
    "    date_received = f'2022-{randint(1,12)}-{randint(1,28)}'\n",
    "    return (product_name, shelf_life, contains_promotion, quantity_in_stock, location, date_received)\n",
    "\n",
    "\n",
    "stock_column_names = [\n",
    "    'product_name',\n",
    "    'shelf_life',\n",
    "    'contains_promotion',\n",
    "    'quantity_in_stock',\n",
    "    'location',\n",
    "    'date_received',\n",
    "]\n",
    "generate_and_save(\n",
    "    generate_stock_data,\n",
    "    stock_column_names,\n",
    "    file_name='stock.json',\n",
    "    file_format='json',\n",
    ")"
   ]
  },
  {
   "cell_type": "code",
   "execution_count": null,
   "id": "3ba71f4f-5e44-49c5-927a-7b21e593f951",
   "metadata": {},
   "outputs": [],
   "source": [
    "def generate_supplier_data(i):\n",
    "    sup_id = f's_{i}'\n",
    "    product_name = f'Product_{i}'\n",
    "    quantity_ordered = randint(1, 1000)\n",
    "    price = uniform(1, 100)\n",
    "    date_ordered = f'2022-{randint(1,12)}-{randint(1,28)}'\n",
    "    return (sup_id, product_name, quantity_ordered, price, date_ordered)\n",
    "\n",
    "\n",
    "supplier_column_names = [\n",
    "    'sup_id',\n",
    "    'product_name',\n",
    "    'quantity_ordered',\n",
    "    'price',\n",
    "    'date_ordered',\n",
    "]\n",
    "generate_and_save(\n",
    "    generate_supplier_data,\n",
    "    supplier_column_names,\n",
    "    file_name='supplier.json',\n",
    "    file_format='json',\n",
    ")"
   ]
  },
  {
   "cell_type": "code",
   "execution_count": null,
   "id": "ee1799dc-cb2f-4a6b-8a62-49f66ada9b95",
   "metadata": {},
   "outputs": [],
   "source": [
    "def generate_customer_data(i):\n",
    "    customer_id = f'c_{i}'\n",
    "    customer_name = f'Customer_{i}'\n",
    "    age = randint(20, 70)\n",
    "    gender = choice([\"male\", \"female\"])\n",
    "    purchase_history = randint(1, 100)\n",
    "    contact_info = f'email_{i}@gmail.com'\n",
    "    return (customer_id, customer_name, age, gender, purchase_history, contact_info)\n",
    "\n",
    "\n",
    "customer_column_names = [\n",
    "    \"customer_id\",\n",
    "    \"customer_name\",\n",
    "    \"age\",\n",
    "    \"gender\",\n",
    "    \"purchase_history\",\n",
    "    \"contact_info\",\n",
    "]\n",
    "generate_and_save(\n",
    "    generate_customer_data,\n",
    "    customer_column_names,\n",
    "    file_name='customer.csv',\n",
    "    file_format='csv',\n",
    ")"
   ]
  },
  {
   "cell_type": "code",
   "execution_count": null,
   "id": "b1b4587d-eda2-4e2e-a44c-e8c0864a8f90",
   "metadata": {},
   "outputs": [],
   "source": [
    "def generate_market_data(i):\n",
    "    product_name = f'Product_{i}'\n",
    "    competitor_price = uniform(1, 100)\n",
    "    sales_trend = randint(1, 100)\n",
    "    demand_forecast = randint(1, 100)\n",
    "    return (product_name, competitor_price, sales_trend, demand_forecast)\n",
    "\n",
    "\n",
    "market_column_names = [\n",
    "    \"product_name\", \"competitor_price\", \"sales_trend\", \"demand_forecast\"\n",
    "]\n",
    "generate_and_save(\n",
    "    generate_market_data,\n",
    "    market_column_names,\n",
    "    file_name='market.csv',\n",
    "    file_format='csv'\n",
    ")"
   ]
  },
  {
   "cell_type": "code",
   "execution_count": null,
   "id": "61a39550-8d67-4fc8-8313-01db0d3a68c4",
   "metadata": {},
   "outputs": [],
   "source": [
    "def generate_logistic_data(i):\n",
    "    product_name = f'Product_{i}'\n",
    "    shipping_cost = uniform(1, 100)\n",
    "    transportation_cost = uniform(1, 100)\n",
    "    warehouse_cost = uniform(1, 100)\n",
    "    return (product_name, shipping_cost, transportation_cost, warehouse_cost)\n",
    "\n",
    "\n",
    "logistic_column_names = [\n",
    "    \"product_name\", \"shipping_cost\", \"transportation_cost\", \"warehouse_cost\"\n",
    "]\n",
    "generate_and_save(\n",
    "    generate_logistic_data,\n",
    "    logistic_column_names,\n",
    "    file_name='logistic.csv',\n",
    "    file_format='csv'\n",
    ")"
   ]
  },
  {
   "cell_type": "code",
   "execution_count": null,
   "id": "e119e73c-6097-4471-858d-9aa49c9cb8ce",
   "metadata": {},
   "outputs": [],
   "source": []
  }
 ],
 "metadata": {
  "kernelspec": {
   "display_name": "Python 3.9.14",
   "language": "python",
   "name": "python3"
  },
  "language_info": {
   "codemirror_mode": {
    "name": "ipython",
    "version": 3
   },
   "file_extension": ".py",
   "mimetype": "text/x-python",
   "name": "python",
   "nbconvert_exporter": "python",
   "pygments_lexer": "ipython3",
   "version": "3.9.14"
  }
 },
 "nbformat": 4,
 "nbformat_minor": 5
}
